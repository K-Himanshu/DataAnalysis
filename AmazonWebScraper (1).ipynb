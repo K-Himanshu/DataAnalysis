{
  "nbformat": 4,
  "nbformat_minor": 0,
  "metadata": {
    "colab": {
      "name": "AmazonWebScraper.ipynb",
      "provenance": [],
      "collapsed_sections": [],
      "toc_visible": true
    },
    "kernelspec": {
      "name": "python3",
      "display_name": "Python 3"
    },
    "language_info": {
      "name": "python"
    }
  },
  "cells": [
    {
      "cell_type": "code",
      "execution_count": 37,
      "metadata": {
        "id": "ckBcx3NEKpcC"
      },
      "outputs": [],
      "source": [
        "from bs4 import BeautifulSoup\n",
        "import requests\n",
        "import smtplib\n",
        "import time\n",
        "import datetime"
      ]
    },
    {
      "cell_type": "code",
      "source": [
        "# connecting to the website now\n",
        "\n",
        "URL='https://www.amazon.com/NET-CASE-Pocketbook-Rotating-Protective-Lightweight/dp/B09M2GFHRP/ref=sr_1_13_sspa?qid=1646892863&s=electronics&sr=1-13-spons&spLa=ZW5jcnlwdGVkUXVhbGlmaWVyPUEyQVZDUzJGMFUzMUomZW5jcnlwdGVkSWQ9QTA3MDE5ODQyS1ZDRUdQVFk0UTU4JmVuY3J5cHRlZEFkSWQ9QTA1OTQ4MzQzSUVQTFZLSjJQQVFHJndpZGdldE5hbWU9c3BfbXRmX2Jyb3dzZSZhY3Rpb249Y2xpY2tSZWRpcmVjdCZkb05vdExvZ0NsaWNrPXRydWU&th=1'\n",
        "# headers to get from http://httpbin.org/get \n",
        "headers = {\"User-Agent\": \"Mozilla/5.0 (Windows NT 10.0; Win64; x64) AppleWebKit/537.36 (KHTML, like Gecko) Chrome/99.0.4844.51 Safari/537.36\", \"Accept-Encoding\":\"gzip, deflate\", \"Accept\":\"text/html,application/xhtml+xml,application/xml;q=0.9,*/*;q=0.8\", \"DNT\":\"1\",\"Connection\":\"close\", \"Upgrade-Insecure-Requests\":\"1\"}\n",
        "\n",
        "\n",
        "page = requests.get(URL, headers = headers)\n"
      ],
      "metadata": {
        "id": "zA-UfOdMN18x"
      },
      "execution_count": 38,
      "outputs": []
    },
    {
      "cell_type": "code",
      "source": [
        "soup1 = BeautifulSoup(page.content, \"html.parser\")"
      ],
      "metadata": {
        "id": "DbBuF0BKUXVL"
      },
      "execution_count": 39,
      "outputs": []
    },
    {
      "cell_type": "code",
      "source": [
        "#print(soup1)"
      ],
      "metadata": {
        "id": "1PknMnCUW0mS"
      },
      "execution_count": 40,
      "outputs": []
    },
    {
      "cell_type": "code",
      "source": [
        "soup2 = BeautifulSoup(soup1.prettify(), \"html.parser\")\n",
        "#print(soup2)"
      ],
      "metadata": {
        "id": "t3EMkcoPXKm6"
      },
      "execution_count": 41,
      "outputs": []
    },
    {
      "cell_type": "code",
      "source": [
        "title = soup2.find(id = 'productTitle').get_text()\n",
        "\n",
        "print(title.strip())"
      ],
      "metadata": {
        "colab": {
          "base_uri": "https://localhost:8080/"
        },
        "id": "_6eGtQrdY-I2",
        "outputId": "33695c92-230b-4507-c6ae-c9765e5dc88f"
      },
      "execution_count": 42,
      "outputs": [
        {
          "output_type": "stream",
          "name": "stdout",
          "text": [
            "E NET-CASE Case for Pocketbook InkPad Lite 9.7 inch,360 Degree Rotating Protective Tablet, Lightweight Smart Cover Folio Stand Hard Shell Cover for Pocketbook InkPad Lite 9.7 Inch\n"
          ]
        }
      ]
    },
    {
      "cell_type": "code",
      "source": [
        "brand = soup2.find(id = 'bylineInfo').get_text()\n",
        "brand=(brand.strip())[7:]\n",
        "print(brand)"
      ],
      "metadata": {
        "colab": {
          "base_uri": "https://localhost:8080/"
        },
        "id": "pn9k1f0sehEK",
        "outputId": "95d32e38-c9a2-49da-9025-d6514473dbb2"
      },
      "execution_count": 43,
      "outputs": [
        {
          "output_type": "stream",
          "name": "stdout",
          "text": [
            "E NET-CASE\n"
          ]
        }
      ]
    },
    {
      "cell_type": "code",
      "source": [
        "type(brand)\n",
        "type(title)"
      ],
      "metadata": {
        "colab": {
          "base_uri": "https://localhost:8080/"
        },
        "id": "IPEYSy9lusUE",
        "outputId": "c7f3f13f-597e-4c09-ab56-9f4e4048d163"
      },
      "execution_count": 44,
      "outputs": [
        {
          "output_type": "execute_result",
          "data": {
            "text/plain": [
              "str"
            ]
          },
          "metadata": {},
          "execution_count": 44
        }
      ]
    },
    {
      "cell_type": "code",
      "source": [
        "date = datetime.date.today()"
      ],
      "metadata": {
        "id": "kafo3UnzitMO"
      },
      "execution_count": 45,
      "outputs": []
    },
    {
      "cell_type": "code",
      "source": [
        "import csv\n",
        "\n",
        "header = ['Title', 'Brand', 'Time']\n",
        "\n",
        "data = [title, brand, date]"
      ],
      "metadata": {
        "id": "VdRX9xaQf7Kk"
      },
      "execution_count": 46,
      "outputs": []
    },
    {
      "cell_type": "code",
      "source": [
        "with open ('AmazonWebScrapperDataset.csv', 'w', newline='', encoding = 'UTF8') as f:\n",
        "  w=csv.writer(f)\n",
        "  w.writerow(header)\n",
        "  w.writerow(data)"
      ],
      "metadata": {
        "id": "XpcXIxPmwKJw"
      },
      "execution_count": 47,
      "outputs": []
    },
    {
      "cell_type": "code",
      "source": [
        "import pandas as pd\n",
        " "
      ],
      "metadata": {
        "id": "ugao0s3vxJjO"
      },
      "execution_count": 48,
      "outputs": []
    },
    {
      "cell_type": "code",
      "source": [
        "def appendData():\n",
        "  df = pd.read_csv(\"/content/AmazonWebScrapperDataset.csv\")\n",
        "\n",
        "    "
      ],
      "metadata": {
        "id": "ZHMhHEgYkbvd"
      },
      "execution_count": 49,
      "outputs": []
    },
    {
      "cell_type": "code",
      "source": [
        "# Now I want to append more rows\n",
        "with open('AmazonWebScrapperDataset.csv','a+',newline='',encoding='UTF8') as f:\n",
        "  w = csv.writer(f)\n",
        "  w.writerow(data)\n",
        "\n",
        "appendData()\n",
        "\n",
        "\n"
      ],
      "metadata": {
        "id": "Vp0WyULdESMr"
      },
      "execution_count": 50,
      "outputs": []
    },
    {
      "cell_type": "code",
      "source": [
        "print(df)"
      ],
      "metadata": {
        "colab": {
          "base_uri": "https://localhost:8080/"
        },
        "id": "rpFHZdKJoK6v",
        "outputId": "f3d061c8-cae8-4d30-9f72-5a374ba66586"
      },
      "execution_count": 51,
      "outputs": [
        {
          "output_type": "stream",
          "name": "stdout",
          "text": [
            "                                               Title       Brand        Time\n",
            "0  \\n     E NET-CASE Case for Pocketbook InkPad L...  E NET-CASE  2022-03-11\n",
            "1  \\n     E NET-CASE Case for Pocketbook InkPad L...  E NET-CASE  2022-03-11\n",
            "2  \\n     E NET-CASE Case for Pocketbook InkPad L...  E NET-CASE  2022-03-11\n",
            "3  \\n     E NET-CASE Case for Pocketbook InkPad L...  E NET-CASE  2022-03-11\n",
            "4  \\n     E NET-CASE Case for Pocketbook InkPad L...  E NET-CASE  2022-03-11\n",
            "5  \\n     E NET-CASE Case for Pocketbook InkPad L...  E NET-CASE  2022-03-11\n"
          ]
        }
      ]
    }
  ]
}
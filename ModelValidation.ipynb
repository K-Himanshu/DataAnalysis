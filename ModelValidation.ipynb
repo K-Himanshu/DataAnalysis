# Data Loading Code Hidden Here
import pandas as pd

dataSet  = pd.read_csv("/content/Iris.csv") 
dataSet.head()

# Choose target and features
y = dataSet.Species
dataSet_features = ['SepalLengthCm', 'SepalWidthCm', 'PetalLengthCm', 'PetalLengthCm', 'PetalWidthCm']
X = dataSet[dataSet_features]
'''Now, the y is string type, we convert this into category type by Label Encoding'''

newY=pd.DataFrame(list(y), columns=['TypeY'])
newY['TypeY']=newY['TypeY'].astype('category')
newY['Values']=newY['TypeY'].cat.codes

newY
y=newY.Values
from sklearn.tree import DecisionTreeRegressor
# Define model
firstModel = DecisionTreeRegressor()
# Fit model
firstModel.fit(X, y)
from sklearn.metrics import mean_absolute_error as mae
predicted_type=firstModel.predict(X)
mae(y,predicted_type)
from sklearn.model_selection import train_test_split
train_x, val_x, train_y, val_y=train_test_split(X,y,random_state=0)
secondModel=DecisionTreeRegressor()
secondModel.fit(train_x, train_y)
newPredict=secondModel.predict(val_x)
mae(val_y, newPredict)
